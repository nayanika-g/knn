{
 "cells": [
  {
   "cell_type": "markdown",
   "metadata": {},
   "source": [
    "# CS530 Homework 7 Part 2"
   ]
  },
  {
   "cell_type": "markdown",
   "metadata": {},
   "source": [
    "Queston 1 (1 points) \n",
    "\n",
    "a. Fit a KNN classifier on the Heart Disease dataset from Homework 6 (data is also included in the folder here) using the Scikit-learn package, plot your ROC curve on the testing set and compute the AUC. \n"
   ]
  },
  {
   "cell_type": "code",
   "execution_count": 8,
   "metadata": {},
   "outputs": [
    {
     "data": {
      "text/html": [
       "<div>\n",
       "<style scoped>\n",
       "    .dataframe tbody tr th:only-of-type {\n",
       "        vertical-align: middle;\n",
       "    }\n",
       "\n",
       "    .dataframe tbody tr th {\n",
       "        vertical-align: top;\n",
       "    }\n",
       "\n",
       "    .dataframe thead th {\n",
       "        text-align: right;\n",
       "    }\n",
       "</style>\n",
       "<table border=\"1\" class=\"dataframe\">\n",
       "  <thead>\n",
       "    <tr style=\"text-align: right;\">\n",
       "      <th></th>\n",
       "      <th>Unnamed: 0</th>\n",
       "      <th>age</th>\n",
       "      <th>sex</th>\n",
       "      <th>cp</th>\n",
       "      <th>trestbps</th>\n",
       "      <th>chol</th>\n",
       "      <th>fbs</th>\n",
       "      <th>restecg</th>\n",
       "      <th>thalach</th>\n",
       "      <th>exang</th>\n",
       "      <th>oldpeak</th>\n",
       "      <th>slope</th>\n",
       "      <th>ca</th>\n",
       "      <th>thal</th>\n",
       "      <th>target</th>\n",
       "    </tr>\n",
       "  </thead>\n",
       "  <tbody>\n",
       "    <tr>\n",
       "      <th>0</th>\n",
       "      <td>0</td>\n",
       "      <td>63</td>\n",
       "      <td>0</td>\n",
       "      <td>0</td>\n",
       "      <td>108</td>\n",
       "      <td>269</td>\n",
       "      <td>0</td>\n",
       "      <td>1</td>\n",
       "      <td>169</td>\n",
       "      <td>1</td>\n",
       "      <td>1.8</td>\n",
       "      <td>1</td>\n",
       "      <td>2</td>\n",
       "      <td>2</td>\n",
       "      <td>0</td>\n",
       "    </tr>\n",
       "    <tr>\n",
       "      <th>1</th>\n",
       "      <td>1</td>\n",
       "      <td>58</td>\n",
       "      <td>0</td>\n",
       "      <td>3</td>\n",
       "      <td>150</td>\n",
       "      <td>283</td>\n",
       "      <td>1</td>\n",
       "      <td>0</td>\n",
       "      <td>162</td>\n",
       "      <td>0</td>\n",
       "      <td>1.0</td>\n",
       "      <td>2</td>\n",
       "      <td>0</td>\n",
       "      <td>2</td>\n",
       "      <td>1</td>\n",
       "    </tr>\n",
       "    <tr>\n",
       "      <th>2</th>\n",
       "      <td>2</td>\n",
       "      <td>65</td>\n",
       "      <td>1</td>\n",
       "      <td>0</td>\n",
       "      <td>110</td>\n",
       "      <td>248</td>\n",
       "      <td>0</td>\n",
       "      <td>0</td>\n",
       "      <td>158</td>\n",
       "      <td>0</td>\n",
       "      <td>0.6</td>\n",
       "      <td>2</td>\n",
       "      <td>2</td>\n",
       "      <td>1</td>\n",
       "      <td>0</td>\n",
       "    </tr>\n",
       "    <tr>\n",
       "      <th>3</th>\n",
       "      <td>3</td>\n",
       "      <td>55</td>\n",
       "      <td>1</td>\n",
       "      <td>1</td>\n",
       "      <td>130</td>\n",
       "      <td>262</td>\n",
       "      <td>0</td>\n",
       "      <td>1</td>\n",
       "      <td>155</td>\n",
       "      <td>0</td>\n",
       "      <td>0.0</td>\n",
       "      <td>2</td>\n",
       "      <td>0</td>\n",
       "      <td>2</td>\n",
       "      <td>1</td>\n",
       "    </tr>\n",
       "    <tr>\n",
       "      <th>4</th>\n",
       "      <td>4</td>\n",
       "      <td>56</td>\n",
       "      <td>0</td>\n",
       "      <td>0</td>\n",
       "      <td>134</td>\n",
       "      <td>409</td>\n",
       "      <td>0</td>\n",
       "      <td>0</td>\n",
       "      <td>150</td>\n",
       "      <td>1</td>\n",
       "      <td>1.9</td>\n",
       "      <td>1</td>\n",
       "      <td>2</td>\n",
       "      <td>3</td>\n",
       "      <td>0</td>\n",
       "    </tr>\n",
       "  </tbody>\n",
       "</table>\n",
       "</div>"
      ],
      "text/plain": [
       "   Unnamed: 0  age  sex  cp  trestbps  chol  fbs  restecg  thalach  exang  \\\n",
       "0           0   63    0   0       108   269    0        1      169      1   \n",
       "1           1   58    0   3       150   283    1        0      162      0   \n",
       "2           2   65    1   0       110   248    0        0      158      0   \n",
       "3           3   55    1   1       130   262    0        1      155      0   \n",
       "4           4   56    0   0       134   409    0        0      150      1   \n",
       "\n",
       "   oldpeak  slope  ca  thal  target  \n",
       "0      1.8      1   2     2       0  \n",
       "1      1.0      2   0     2       1  \n",
       "2      0.6      2   2     1       0  \n",
       "3      0.0      2   0     2       1  \n",
       "4      1.9      1   2     3       0  "
      ]
     },
     "execution_count": 8,
     "metadata": {},
     "output_type": "execute_result"
    }
   ],
   "source": [
    "# Your code goes here\n",
    "import pandas as pd\n",
    "train = pd.read_csv(\"../hw7part2/train.csv\")\n",
    "train.head()"
   ]
  },
  {
   "cell_type": "code",
   "execution_count": 9,
   "metadata": {},
   "outputs": [
    {
     "data": {
      "text/plain": [
       "KNeighborsClassifier(algorithm='auto', leaf_size=30, metric='minkowski',\n",
       "           metric_params=None, n_jobs=1, n_neighbors=3, p=2,\n",
       "           weights='uniform')"
      ]
     },
     "execution_count": 9,
     "metadata": {},
     "output_type": "execute_result"
    }
   ],
   "source": [
    "from sklearn.neighbors import KNeighborsClassifier\n",
    "model = KNeighborsClassifier(n_neighbors=3) #K=3\n",
    "features = train.loc[:,'age':'thal']\n",
    "label = train['target']\n",
    "model.fit(features, label)"
   ]
  },
  {
   "cell_type": "code",
   "execution_count": 10,
   "metadata": {},
   "outputs": [
    {
     "name": "stdout",
     "output_type": "stream",
     "text": [
      "[0 1 1 0 0 0 0 1 0 0 1 0 1 1 1 1 1 1 1 0 1 1 1 0 0 0 0 1 1 0 0 1 1 1 0 1 0\n",
      " 1 0 1 1 1 0 1 1 0 0 1 0 0 1 1 1 1 1 0 1 0 0 1 0 1 0 1 0 1 0 0 1 1 0 0 1 0\n",
      " 0 1 0 0 0 0 0 1 0 0 0 0 0 0 0 1 0 1 1 0 1 1 1 1 0 1 1 1 0 1 1 0 1 0 1 0 0\n",
      " 1 0 0 0 0 0 1 0 1 1 1 1 1 0 0 1 1 1 1 1 1 1 1 1 1 1 0 0 0 1 0 0 1 1 1 0 1\n",
      " 0 0 0 1 0 1 0 0 0 1 1 0 0 0 1 1 0 0 1 0 0 0 0 1 1 0 0 1 1 1 0 1 0 0 0 1 1\n",
      " 0 0 0 0 1 1 1 1 1 1 1 0 1 0 1 0 1 1 0 0 0 1 1 1 1 1 1 0 0 1 0 1 1 0 1 0 0\n",
      " 0 0 1 0 0 0]\n"
     ]
    }
   ],
   "source": [
    "predicted = model.predict(features)\n",
    "print(predicted)"
   ]
  },
  {
   "cell_type": "markdown",
   "metadata": {},
   "source": [
    "b. Compare your result with HW6. Does KNN do better on the classification? Explain\n"
   ]
  },
  {
   "cell_type": "code",
   "execution_count": 11,
   "metadata": {},
   "outputs": [],
   "source": [
    "test = pd.read_csv(\"../hw7part2/test.csv\")"
   ]
  },
  {
   "cell_type": "code",
   "execution_count": 12,
   "metadata": {},
   "outputs": [
    {
     "data": {
      "text/plain": [
       "0.6842105263157895"
      ]
     },
     "execution_count": 12,
     "metadata": {},
     "output_type": "execute_result"
    }
   ],
   "source": [
    "# your code goes here\n",
    "test_features = test.loc[:,'age':'thal']\n",
    "test_label = test['target']\n",
    "model.score(test_features, test_label)"
   ]
  },
  {
   "cell_type": "markdown",
   "metadata": {},
   "source": [
    "No, KNN does not do better than LDA or Logistic Regression."
   ]
  },
  {
   "cell_type": "markdown",
   "metadata": {},
   "source": [
    "Question 2 (2 points) Implement from scratch the function MyKNN() that classifies the matrix X_test (samples × features) using the KNN algorithm we learned in class. The inputs for the function should be the training set X_train, the labels y_train, the parameter k, and the matrix X_test. The output for the function should be y_test, your prediction for the label of X_test. Test your function on the Iris dataset and compare it to the KNN classifier (use the default parameters other than n_neighbors) of scikit-learn for that dataset (as in Question 1).\n"
   ]
  },
  {
   "cell_type": "code",
   "execution_count": 14,
   "metadata": {},
   "outputs": [],
   "source": [
    "import numpy as np\n",
    "def distance(p1, p2):\n",
    "    point1 = np.array(p1) \n",
    "    point2 = np.array(p2)\n",
    "    \n",
    "    return np.linalg.norm(point1 - point2)"
   ]
  },
  {
   "cell_type": "code",
   "execution_count": 15,
   "metadata": {},
   "outputs": [],
   "source": [
    "def MyKNN(X_train, y_train, k, X_test):\n",
    "    y_test = []\n",
    "    for i in range(len(X_test)):\n",
    "        distances = []\n",
    "        for j in range(len(X_train)):\n",
    "            sample_x_test = X_test.iloc[i,:]\n",
    "            neighbor = X_train.iloc[j,:]\n",
    "            dist = distance(sample_x_test, neighbor)\n",
    "            distances.append(dist)\n",
    "        distances = np.array(distances)\n",
    "        sorted_dist = np.argsort(distances)\n",
    "        top_k_neighbors_indices = sorted_dist[:k] #get the indices not distances\n",
    "        y_test.append(np.round(np.mean(y_train.iloc[top_k_neighbors_indices]))) #access y_train\n",
    "    return y_test"
   ]
  },
  {
   "cell_type": "code",
   "execution_count": 16,
   "metadata": {},
   "outputs": [],
   "source": [
    "from sklearn.datasets import load_iris\n",
    "iris = load_iris()\n",
    "iris_data = pd.DataFrame(data= np.c_[iris['data'], iris['target']],\n",
    "                     columns= iris['feature_names'] + ['target'])"
   ]
  },
  {
   "cell_type": "code",
   "execution_count": 17,
   "metadata": {},
   "outputs": [
    {
     "data": {
      "text/html": [
       "<div>\n",
       "<style scoped>\n",
       "    .dataframe tbody tr th:only-of-type {\n",
       "        vertical-align: middle;\n",
       "    }\n",
       "\n",
       "    .dataframe tbody tr th {\n",
       "        vertical-align: top;\n",
       "    }\n",
       "\n",
       "    .dataframe thead th {\n",
       "        text-align: right;\n",
       "    }\n",
       "</style>\n",
       "<table border=\"1\" class=\"dataframe\">\n",
       "  <thead>\n",
       "    <tr style=\"text-align: right;\">\n",
       "      <th></th>\n",
       "      <th>sepal length (cm)</th>\n",
       "      <th>sepal width (cm)</th>\n",
       "      <th>petal length (cm)</th>\n",
       "      <th>petal width (cm)</th>\n",
       "      <th>target</th>\n",
       "    </tr>\n",
       "  </thead>\n",
       "  <tbody>\n",
       "    <tr>\n",
       "      <th>0</th>\n",
       "      <td>5.1</td>\n",
       "      <td>3.5</td>\n",
       "      <td>1.4</td>\n",
       "      <td>0.2</td>\n",
       "      <td>0.0</td>\n",
       "    </tr>\n",
       "    <tr>\n",
       "      <th>1</th>\n",
       "      <td>4.9</td>\n",
       "      <td>3.0</td>\n",
       "      <td>1.4</td>\n",
       "      <td>0.2</td>\n",
       "      <td>0.0</td>\n",
       "    </tr>\n",
       "    <tr>\n",
       "      <th>2</th>\n",
       "      <td>4.7</td>\n",
       "      <td>3.2</td>\n",
       "      <td>1.3</td>\n",
       "      <td>0.2</td>\n",
       "      <td>0.0</td>\n",
       "    </tr>\n",
       "    <tr>\n",
       "      <th>3</th>\n",
       "      <td>4.6</td>\n",
       "      <td>3.1</td>\n",
       "      <td>1.5</td>\n",
       "      <td>0.2</td>\n",
       "      <td>0.0</td>\n",
       "    </tr>\n",
       "    <tr>\n",
       "      <th>4</th>\n",
       "      <td>5.0</td>\n",
       "      <td>3.6</td>\n",
       "      <td>1.4</td>\n",
       "      <td>0.2</td>\n",
       "      <td>0.0</td>\n",
       "    </tr>\n",
       "  </tbody>\n",
       "</table>\n",
       "</div>"
      ],
      "text/plain": [
       "   sepal length (cm)  sepal width (cm)  petal length (cm)  petal width (cm)  \\\n",
       "0                5.1               3.5                1.4               0.2   \n",
       "1                4.9               3.0                1.4               0.2   \n",
       "2                4.7               3.2                1.3               0.2   \n",
       "3                4.6               3.1                1.5               0.2   \n",
       "4                5.0               3.6                1.4               0.2   \n",
       "\n",
       "   target  \n",
       "0     0.0  \n",
       "1     0.0  \n",
       "2     0.0  \n",
       "3     0.0  \n",
       "4     0.0  "
      ]
     },
     "execution_count": 17,
     "metadata": {},
     "output_type": "execute_result"
    }
   ],
   "source": [
    "iris_data.head()"
   ]
  },
  {
   "cell_type": "code",
   "execution_count": 18,
   "metadata": {},
   "outputs": [],
   "source": [
    "X_iris = iris_data.loc[:,'sepal length (cm)':'petal width (cm)']\n",
    "y_iris = iris_data['target']"
   ]
  },
  {
   "cell_type": "code",
   "execution_count": 19,
   "metadata": {},
   "outputs": [
    {
     "name": "stderr",
     "output_type": "stream",
     "text": [
      "/Users/gracegupta/anaconda3/lib/python3.6/site-packages/sklearn/cross_validation.py:41: DeprecationWarning: This module was deprecated in version 0.18 in favor of the model_selection module into which all the refactored classes and functions are moved. Also note that the interface of the new CV iterators are different from that of this module. This module will be removed in 0.20.\n",
      "  \"This module will be removed in 0.20.\", DeprecationWarning)\n"
     ]
    }
   ],
   "source": [
    "from sklearn.cross_validation import train_test_split\n",
    "X_train_iris,X_test_iris,y_train_iris,y_test_iris=train_test_split(X_iris,y_iris,test_size=0.5)"
   ]
  },
  {
   "cell_type": "code",
   "execution_count": 20,
   "metadata": {},
   "outputs": [
    {
     "name": "stdout",
     "output_type": "stream",
     "text": [
      "[2. 0. 2. 2. 0. 0. 2. 2. 0. 2. 2. 0. 2. 1. 2. 2. 0. 0. 1. 0. 0. 1. 0. 1.\n",
      " 1. 0. 2. 2. 1. 1. 2. 0. 1. 1. 2. 1. 1. 0. 0. 2. 2. 2. 2. 1. 2. 0. 1. 0.\n",
      " 1. 0. 2. 2. 0. 1. 0. 1. 1. 1. 2. 0. 0. 2. 1. 2. 2. 0. 2. 1. 1. 0. 2. 1.\n",
      " 1. 1. 2.]\n"
     ]
    }
   ],
   "source": [
    "print(np.array(y_test_iris))"
   ]
  },
  {
   "cell_type": "code",
   "execution_count": 22,
   "metadata": {},
   "outputs": [
    {
     "name": "stdout",
     "output_type": "stream",
     "text": [
      "[2. 0. 2. 2. 0. 0. 2. 2. 0. 2. 2. 0. 2. 2. 2. 2. 0. 0. 1. 0. 0. 2. 0. 1.\n",
      " 1. 0. 2. 2. 1. 2. 2. 0. 1. 1. 2. 1. 1. 0. 0. 2. 2. 2. 2. 1. 2. 0. 1. 0.\n",
      " 1. 0. 2. 2. 0. 1. 0. 1. 1. 2. 2. 0. 0. 2. 1. 2. 2. 0. 2. 1. 1. 0. 2. 2.\n",
      " 1. 2. 2.]\n"
     ]
    }
   ],
   "source": [
    "predicted_iris_myKNN = MyKNN(X_train_iris, y_train_iris, 4, X_test_iris)\n",
    "predicted_iris_myKNN = np.array(predicted_iris_myKNN)\n",
    "print(predicted_iris_myKNN)"
   ]
  },
  {
   "cell_type": "code",
   "execution_count": 24,
   "metadata": {},
   "outputs": [
    {
     "name": "stdout",
     "output_type": "stream",
     "text": [
      "[2. 0. 2. 2. 0. 0. 2. 2. 0. 2. 2. 0. 2. 1. 2. 2. 0. 0. 1. 0. 0. 2. 0. 1.\n",
      " 1. 0. 2. 2. 1. 2. 2. 0. 1. 1. 2. 1. 1. 0. 0. 2. 2. 2. 2. 1. 2. 0. 1. 0.\n",
      " 1. 0. 2. 2. 0. 1. 0. 1. 1. 2. 2. 0. 0. 2. 1. 2. 2. 0. 2. 1. 1. 0. 2. 2.\n",
      " 1. 1. 2.]\n"
     ]
    }
   ],
   "source": [
    "model_iris = KNeighborsClassifier(n_neighbors=4) \n",
    "model_iris.fit(X_train_iris, y_train_iris)\n",
    "predicted_iris = model_iris.predict(X_test_iris)\n",
    "print(predicted_iris)"
   ]
  },
  {
   "cell_type": "code",
   "execution_count": 25,
   "metadata": {},
   "outputs": [
    {
     "data": {
      "text/plain": [
       "0.9466666666666667"
      ]
     },
     "execution_count": 25,
     "metadata": {},
     "output_type": "execute_result"
    }
   ],
   "source": [
    "model_iris.score(X_test_iris, y_test_iris) #KNN score from scikit learn"
   ]
  },
  {
   "cell_type": "code",
   "execution_count": 28,
   "metadata": {},
   "outputs": [
    {
     "data": {
      "text/plain": [
       "0.92"
      ]
     },
     "execution_count": 28,
     "metadata": {},
     "output_type": "execute_result"
    }
   ],
   "source": [
    "from sklearn import metrics\n",
    "metrics.accuracy_score(y_test_iris, predicted_iris_myKNN)"
   ]
  },
  {
   "cell_type": "markdown",
   "metadata": {},
   "source": [
    "The sklearn model performs slightly better (0.946 compared to 0.92) for k=4."
   ]
  },
  {
   "cell_type": "markdown",
   "metadata": {},
   "source": [
    "Question 3 (3 points) \n",
    "\n",
    "a. Create two 2-dimensional Gaussian (normal) distribution with mean (1,0) and (-1,0), and the identity matric as their covariance matrices. Create labels for the data of the two distribution, apply train-test-split, and use KNN to make a prediction on the test set. (Hint: Use the [numpy.random.multivariate_normal](https://docs.scipy.org/doc/numpy-1.15.1/reference/generated/numpy.random.multivariate_normal.html) to create normal distribution dataset) "
   ]
  },
  {
   "cell_type": "code",
   "execution_count": 34,
   "metadata": {},
   "outputs": [],
   "source": [
    "# Your code goes here\n",
    "mean_a = [1, 0]\n",
    "mean_b = [-1, 0]\n",
    "cov =  [[1, 0], [0, 1]] \n",
    "x_a, y_a = np.random.multivariate_normal(mean_a, cov, 5000).T\n",
    "x_b, y_b = np.random.multivariate_normal(mean_b, cov, 5000).T"
   ]
  },
  {
   "cell_type": "code",
   "execution_count": 35,
   "metadata": {},
   "outputs": [],
   "source": [
    "X_a = np.concatenate((x_a, y_a), axis=0)"
   ]
  },
  {
   "cell_type": "code",
   "execution_count": 36,
   "metadata": {},
   "outputs": [],
   "source": [
    "Y_a = np.full((10000,), 0)"
   ]
  },
  {
   "cell_type": "code",
   "execution_count": 37,
   "metadata": {},
   "outputs": [],
   "source": [
    "X_b = np.concatenate((x_b, y_b), axis=0)"
   ]
  },
  {
   "cell_type": "code",
   "execution_count": 38,
   "metadata": {},
   "outputs": [],
   "source": [
    "Y_b = np.full((10000,), 1)"
   ]
  },
  {
   "cell_type": "code",
   "execution_count": 39,
   "metadata": {},
   "outputs": [],
   "source": [
    "X_gauss = np.concatenate((X_a, X_b), axis=0)\n",
    "y_gauss = np.concatenate((Y_a, Y_b), axis=0)"
   ]
  },
  {
   "cell_type": "code",
   "execution_count": 40,
   "metadata": {},
   "outputs": [],
   "source": [
    "#Create labels for the data of the two distribution, apply train-test-split\n",
    "X_train_gauss,X_test_gauss,y_train_gauss,y_test_gauss=train_test_split(X_gauss,y_gauss,test_size=0.2)"
   ]
  },
  {
   "cell_type": "code",
   "execution_count": 41,
   "metadata": {},
   "outputs": [
    {
     "data": {
      "text/plain": [
       "0.651"
      ]
     },
     "execution_count": 41,
     "metadata": {},
     "output_type": "execute_result"
    }
   ],
   "source": [
    "gaussian_model = KNeighborsClassifier(n_neighbors=5) \n",
    "X_train_gauss = X_train_gauss.reshape(-1, 1)\n",
    "X_test_gauss = X_test_gauss.reshape(-1, 1)\n",
    "\n",
    "gaussian_model.fit(X_train_gauss, y_train_gauss)\n",
    "pred_gauss = gaussian_model.predict(X_test_gauss)\n",
    "gaussian_model.score(X_test_gauss, y_test_gauss)"
   ]
  },
  {
   "cell_type": "markdown",
   "metadata": {},
   "source": [
    "b. Now, we want to create Gaussians of dimensions 1 to 100 to see what happens to KNN as the number of dimensions close. Therefore, use a for loop to simulate two Gaussian distributions with dimensions from 1 to 100. Keep the distance between the center of the two distributions the same. One way to do this is to have the mean of the one distribution be (1,0,0,...,0) and the other one be (-1,0,0,...,0). In other words, both Gaussians would have their center at 0 in all dimensions except $x_1$. Keep the covariance matrices as identity matrices. Hence, the distance between the two distributions will always be 2. Now, as before, apply a train-test-split, predict on the test set, and record the accuracies in each iteration of the loop. Finally, plot your accuracies over the number of dimensions using matplotlib."
   ]
  },
  {
   "cell_type": "code",
   "execution_count": 42,
   "metadata": {},
   "outputs": [
    {
     "data": {
      "text/plain": [
       "array([1., 0., 0., 0., 0., 0., 0., 0., 0., 0., 0., 0., 0., 0., 0., 0., 0.,\n",
       "       0., 0., 0., 0., 0., 0., 0., 0., 0., 0., 0., 0., 0., 0., 0., 0., 0.,\n",
       "       0., 0., 0., 0., 0., 0., 0., 0., 0., 0., 0., 0., 0., 0., 0., 0., 0.,\n",
       "       0., 0., 0., 0., 0., 0., 0., 0., 0., 0., 0., 0., 0., 0., 0., 0., 0.,\n",
       "       0., 0., 0., 0., 0., 0., 0., 0., 0., 0., 0., 0., 0., 0., 0., 0., 0.,\n",
       "       0., 0., 0., 0., 0., 0., 0., 0., 0., 0., 0., 0., 0., 0., 0.])"
      ]
     },
     "execution_count": 42,
     "metadata": {},
     "output_type": "execute_result"
    }
   ],
   "source": [
    "mean_a = np.concatenate((np.ones(1),np.zeros(99)), axis=0)\n",
    "mean_a"
   ]
  },
  {
   "cell_type": "code",
   "execution_count": 43,
   "metadata": {},
   "outputs": [
    {
     "data": {
      "text/plain": [
       "array([-1.,  0.,  0.,  0.,  0.,  0.,  0.,  0.,  0.,  0.,  0.,  0.,  0.,\n",
       "        0.,  0.,  0.,  0.,  0.,  0.,  0.,  0.,  0.,  0.,  0.,  0.,  0.,\n",
       "        0.,  0.,  0.,  0.,  0.,  0.,  0.,  0.,  0.,  0.,  0.,  0.,  0.,\n",
       "        0.,  0.,  0.,  0.,  0.,  0.,  0.,  0.,  0.,  0.,  0.,  0.,  0.,\n",
       "        0.,  0.,  0.,  0.,  0.,  0.,  0.,  0.,  0.,  0.,  0.,  0.,  0.,\n",
       "        0.,  0.,  0.,  0.,  0.,  0.,  0.,  0.,  0.,  0.,  0.,  0.,  0.,\n",
       "        0.,  0.,  0.,  0.,  0.,  0.,  0.,  0.,  0.,  0.,  0.,  0.,  0.,\n",
       "        0.,  0.,  0.,  0.,  0.,  0.,  0.,  0.,  0.])"
      ]
     },
     "execution_count": 43,
     "metadata": {},
     "output_type": "execute_result"
    }
   ],
   "source": [
    "mean_b = np.concatenate((np.array([-1]), np.zeros(99)), axis=0)\n",
    "mean_b"
   ]
  },
  {
   "cell_type": "code",
   "execution_count": 49,
   "metadata": {},
   "outputs": [],
   "source": [
    "accuracy = []\n",
    "for i in range(100):\n",
    "    mu_a = mean_a[:(i+1)]\n",
    "    mu_b = mean_b[:(i+1)]\n",
    "    cov = np.identity((i+1))\n",
    "    x_a = np.random.multivariate_normal(mu_a, cov, 5000).T\n",
    "    x_b = np.random.multivariate_normal(mu_b, cov, 5000).T\n",
    "    \n",
    "    X_a = np.concatenate(x_a, axis=0)\n",
    "    X_b = np.concatenate(x_b, axis=0)\n",
    "    Y_a = np.full((len(X_a),), 1)\n",
    "    Y_b = np.full((len(X_b),), 1)\n",
    "    \n",
    "    X_gauss_dim = np.concatenate((X_a, X_b), axis=0)\n",
    "    y_gauss_dim = np.concatenate((Y_a, Y_b), axis=0)\n",
    "\n",
    "    X_train_dim,X_test_dim,y_train_dim,y_test_dim=train_test_split(X_gauss_dim,y_gauss_dim,test_size=0.2)\n",
    "    gaussian_dim = KNeighborsClassifier(n_neighbors=5) \n",
    "    X_train_dim = X_train_dim.reshape(-1, 1) #reshape X_train_dim\n",
    "    X_test_dim = X_test_dim.reshape(-1, 1)   #reshape X_test_dim\n",
    "    gaussian_dim.fit(X_train_dim, y_train_dim)\n",
    "    pred_dim = gaussian_dim.predict(X_test_dim)\n",
    "    accuracy.append(gaussian_model.score(X_test_dim, y_test_dim))"
   ]
  },
  {
   "cell_type": "code",
   "execution_count": 50,
   "metadata": {},
   "outputs": [
    {
     "data": {
      "image/png": "[encoded data removed]",
      "text/plain": [
       "<Figure size 432x288 with 1 Axes>"
      ]
     },
     "metadata": {},
     "output_type": "display_data"
    }
   ],
   "source": [
    "import matplotlib.pyplot as plt\n",
    "x = [n+1 for n in range(100)]\n",
    "y = [score for score in accuracy]\n",
    "plt.plot(x,y)\n",
    "plt.xlabel('# Dimensions')\n",
    "plt.ylabel('Accuracy')\n",
    "plt.show()"
   ]
  },
  {
   "cell_type": "markdown",
   "metadata": {},
   "source": [
    "c. Discuss what you found in the accuracy plot in 3b. Why do you think you got those results?"
   ]
  },
  {
   "cell_type": "markdown",
   "metadata": {},
   "source": [
    "The accuracy decreases with increased number of dimensions and appears to trend towards a score of 0.508. "
   ]
  }
 ],
 "metadata": {
  "kernelspec": {
   "display_name": "Python 3",
   "language": "python",
   "name": "python3"
  },
  "language_info": {
   "codemirror_mode": {
    "name": "ipython",
    "version": 3
   },
   "file_extension": ".py",
   "mimetype": "text/x-python",
   "name": "python",
   "nbconvert_exporter": "python",
   "pygments_lexer": "ipython3",
   "version": "3.6.8"
  }
 },
 "nbformat": 4,
 "nbformat_minor": 2
}
